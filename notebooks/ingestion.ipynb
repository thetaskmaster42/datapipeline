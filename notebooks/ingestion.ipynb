{
 "cells": [
  {
   "cell_type": "code",
   "execution_count": 1,
   "id": "b746e48d-8581-4197-ace0-4ed00375d74c",
   "metadata": {},
   "outputs": [
    {
     "name": "stderr",
     "output_type": "stream",
     "text": [
      "25/07/14 23:35:19 WARN SparkSession: Using an existing Spark session; only runtime SQL configurations will take effect.\n"
     ]
    }
   ],
   "source": [
    "import duckdb\n",
    "import pandas as pd\n",
    "from pyspark.sql import SparkSession\n",
    "spark = SparkSession.builder.appName(\"tpch\").getOrCreate()\n"
   ]
  },
  {
   "cell_type": "code",
   "execution_count": 2,
   "id": "775deb16-cf70-459e-92fc-6f21bbd09336",
   "metadata": {},
   "outputs": [],
   "source": [
    "all_configs = spark.sparkContext.getConf().getAll()"
   ]
  },
  {
   "cell_type": "code",
   "execution_count": 3,
   "id": "da1f2df2-b83b-41c2-8595-5ee0ac6a30d0",
   "metadata": {},
   "outputs": [],
   "source": [
    "configs = {}\n",
    "for config in all_configs:\n",
    "    configs[config[0]] = config[1]"
   ]
  },
  {
   "cell_type": "code",
   "execution_count": 4,
   "id": "bea62c82-9570-4cfd-bf88-afd6c8c75fd4",
   "metadata": {},
   "outputs": [
    {
     "data": {
      "text/plain": [
       "'rest'"
      ]
     },
     "execution_count": 4,
     "metadata": {},
     "output_type": "execute_result"
    }
   ],
   "source": [
    "configs.get('spark.sql.catalog.demo.type')"
   ]
  },
  {
   "cell_type": "code",
   "execution_count": 5,
   "id": "40e7eaf3-a83f-4ccb-aad6-d658ea0febea",
   "metadata": {
    "scrolled": true
   },
   "outputs": [
    {
     "data": {
      "text/plain": [
       "dict_keys(['spark.app.submitTime', 'spark.eventLog.enabled', 'spark.driver.host', 'spark.history.fs.logDirectory', 'spark.sql.warehouse.dir', 'spark.sql.catalog.demo.s3.endpoint', 'spark.eventLog.dir', 'spark.app.id', 'spark.serializer.objectStreamReset', 'spark.master', 'spark.submit.deployMode', 'spark.app.startTime', 'spark.driver.extraJavaOptions', 'spark.sql.catalogImplementation', 'spark.sql.catalog.demo.warehouse', 'spark.sql.catalog.demo.io-impl', 'spark.driver.port', 'spark.executor.id', 'spark.app.name', 'spark.sql.extensions', 'spark.sql.catalog.demo.uri', 'spark.sql.catalog.demo.type', 'spark.rdd.compress', 'spark.executor.extraJavaOptions', 'spark.sql.catalog.demo', 'spark.sql.defaultCatalog', 'spark.submit.pyFiles', 'spark.ui.showConsoleProgress'])"
      ]
     },
     "execution_count": 5,
     "metadata": {},
     "output_type": "execute_result"
    }
   ],
   "source": [
    "configs.keys()"
   ]
  },
  {
   "cell_type": "code",
   "execution_count": 6,
   "id": "5175b1b9-d1b8-4731-934b-77b12a69bae3",
   "metadata": {},
   "outputs": [
    {
     "data": {
      "text/plain": [
       "DataFrame[]"
      ]
     },
     "execution_count": 6,
     "metadata": {},
     "output_type": "execute_result"
    }
   ],
   "source": [
    "spark.sql('create database if not exists bronze')\n",
    "spark.sql('create database if not exists silver')\n",
    "spark.sql('create database if not exists gold')"
   ]
  },
  {
   "cell_type": "code",
   "execution_count": 8,
   "id": "e6950ce9-29b9-49b0-a829-e80f9770dd1e",
   "metadata": {},
   "outputs": [],
   "source": [
    "# create TPCH database \n",
    "# TABLES\n",
    "customer = 'select * from customer'\n",
    "lineitem = 'select * from lineitem'\n",
    "nation = 'select * from nation'\n",
    "part = 'select * from part'\n",
    "partsupp = 'select * from partsupp'\n",
    "region = 'select * from region'\n",
    "supplier = 'select * from supplier'\n",
    "\n",
    "def load_tpch():\n",
    "    con = duckdb.connect()\n",
    "    con.execute('INSTALL tpch; LOAD tpch;CALL dbgen(sf = 0.01);')\n",
    "    \n",
    "    # customer table\n",
    "    customer_df = spark.createDataFrame(con.sql(customer).df())\n",
    "    customer_df.write.mode('overwrite').saveAsTable('bronze.customer')\n",
    "\n",
    "    # lineitem\n",
    "    lineitem_df = spark.createDataFrame(con.sql(lineitem).df())\n",
    "    lineitem_df.write.mode('overwrite').saveAsTable('bronze.lineitem')\n",
    "\n",
    "    # part table\n",
    "    part_df = spark.createDataFrame(con.sql(part).df())\n",
    "    part_df.write.mode('overwrite').saveAsTable('bronze.part')\n",
    "\n",
    "    # nation\n",
    "    nation_df = spark.createDataFrame(con.sql(nation).df())\n",
    "    nation_df.write.mode('overwrite').saveAsTable('bronze.nation')\n",
    "\n",
    "    # partsupp table\n",
    "    partsupp_df = spark.createDataFrame(con.sql(partsupp).df())\n",
    "    partsupp_df.write.mode('overwrite').saveAsTable('bronze.partsupp')\n",
    "\n",
    "    # region\n",
    "    region_df = spark.createDataFrame(con.sql(region).df())\n",
    "    region_df.write.mode('overwrite').saveAsTable('bronze.region')\n",
    "\n",
    "    # supplier\n",
    "    supplier_df = spark.createDataFrame(con.sql(supplier).df())\n",
    "    supplier_df.write.mode('overwrite').saveAsTable('bronze.supplier')\n",
    "\n",
    "    con.commit()\n",
    "    con.close()\n"
   ]
  },
  {
   "cell_type": "code",
   "execution_count": 9,
   "id": "866d62f3-2797-4727-b9fe-27f314e74753",
   "metadata": {},
   "outputs": [
    {
     "name": "stderr",
     "output_type": "stream",
     "text": [
      "25/07/14 23:35:55 WARN TaskSetManager: Stage 1 contains a task of very large size (1061 KiB). The maximum recommended task size is 1000 KiB.\n",
      "                                                                                "
     ]
    }
   ],
   "source": [
    "load_tpch()"
   ]
  },
  {
   "cell_type": "code",
   "execution_count": 11,
   "id": "466e2908-e899-4d5a-a43f-6630211f4145",
   "metadata": {},
   "outputs": [
    {
     "data": {
      "text/html": [
       "<table>\n",
       "    <thead>\n",
       "        <tr>\n",
       "        </tr>\n",
       "    </thead>\n",
       "    <tbody>\n",
       "    </tbody>\n",
       "</table>"
      ],
      "text/plain": [
       "++\n",
       "||\n",
       "++\n",
       "++"
      ]
     },
     "execution_count": 11,
     "metadata": {},
     "output_type": "execute_result"
    }
   ],
   "source": [
    "%%sql\n",
    "use bronze;"
   ]
  },
  {
   "cell_type": "code",
   "execution_count": 13,
   "id": "c172cc8d-7d59-4727-b8b3-775bbfc37f31",
   "metadata": {},
   "outputs": [
    {
     "data": {
      "text/html": [
       "<table>\n",
       "    <thead>\n",
       "        <tr>\n",
       "            <th>namespace</th>\n",
       "            <th>tableName</th>\n",
       "            <th>isTemporary</th>\n",
       "        </tr>\n",
       "    </thead>\n",
       "    <tbody>\n",
       "        <tr>\n",
       "            <td>bronze</td>\n",
       "            <td>customer</td>\n",
       "            <td>False</td>\n",
       "        </tr>\n",
       "        <tr>\n",
       "            <td>bronze</td>\n",
       "            <td>lineitem</td>\n",
       "            <td>False</td>\n",
       "        </tr>\n",
       "        <tr>\n",
       "            <td>bronze</td>\n",
       "            <td>nation</td>\n",
       "            <td>False</td>\n",
       "        </tr>\n",
       "        <tr>\n",
       "            <td>bronze</td>\n",
       "            <td>part</td>\n",
       "            <td>False</td>\n",
       "        </tr>\n",
       "        <tr>\n",
       "            <td>bronze</td>\n",
       "            <td>partsupp</td>\n",
       "            <td>False</td>\n",
       "        </tr>\n",
       "        <tr>\n",
       "            <td>bronze</td>\n",
       "            <td>region</td>\n",
       "            <td>False</td>\n",
       "        </tr>\n",
       "        <tr>\n",
       "            <td>bronze</td>\n",
       "            <td>supplier</td>\n",
       "            <td>False</td>\n",
       "        </tr>\n",
       "    </tbody>\n",
       "</table>"
      ],
      "text/plain": [
       "+-----------+-----------+-------------+\n",
       "| namespace | tableName | isTemporary |\n",
       "+-----------+-----------+-------------+\n",
       "|    bronze |  customer |       False |\n",
       "|    bronze |  lineitem |       False |\n",
       "|    bronze |    nation |       False |\n",
       "|    bronze |      part |       False |\n",
       "|    bronze |  partsupp |       False |\n",
       "|    bronze |    region |       False |\n",
       "|    bronze |  supplier |       False |\n",
       "+-----------+-----------+-------------+"
      ]
     },
     "execution_count": 13,
     "metadata": {},
     "output_type": "execute_result"
    }
   ],
   "source": [
    "%%sql \n",
    "show tables;"
   ]
  },
  {
   "cell_type": "code",
   "execution_count": 14,
   "id": "92fba336-103e-430f-abc0-e132cb0a8ad6",
   "metadata": {},
   "outputs": [
    {
     "data": {
      "text/html": [
       "<table>\n",
       "    <thead>\n",
       "        <tr>\n",
       "            <th>c_custkey</th>\n",
       "            <th>c_name</th>\n",
       "            <th>c_address</th>\n",
       "            <th>c_nationkey</th>\n",
       "            <th>c_phone</th>\n",
       "            <th>c_acctbal</th>\n",
       "            <th>c_mktsegment</th>\n",
       "            <th>c_comment</th>\n",
       "        </tr>\n",
       "    </thead>\n",
       "    <tbody>\n",
       "        <tr>\n",
       "            <td>1</td>\n",
       "            <td>Customer#000000001</td>\n",
       "            <td>j5JsirBM9PsCy0O1m</td>\n",
       "            <td>15</td>\n",
       "            <td>25-989-741-2988</td>\n",
       "            <td>711.56</td>\n",
       "            <td>BUILDING</td>\n",
       "            <td>y final requests wake slyly quickly special accounts. blithely</td>\n",
       "        </tr>\n",
       "        <tr>\n",
       "            <td>2</td>\n",
       "            <td>Customer#000000002</td>\n",
       "            <td>487LW1dovn6Q4dMVymKwwLE9OKf3QG</td>\n",
       "            <td>13</td>\n",
       "            <td>23-768-687-3665</td>\n",
       "            <td>121.65</td>\n",
       "            <td>AUTOMOBILE</td>\n",
       "            <td>y carefully regular foxes. slyly regular requests about the bli</td>\n",
       "        </tr>\n",
       "        <tr>\n",
       "            <td>3</td>\n",
       "            <td>Customer#000000003</td>\n",
       "            <td>fkRGN8nY4pkE</td>\n",
       "            <td>1</td>\n",
       "            <td>11-719-748-3364</td>\n",
       "            <td>7498.12</td>\n",
       "            <td>AUTOMOBILE</td>\n",
       "            <td>fully. carefully silent instructions sleep alongside of the slyly regular asymptotes. quickly regular </td>\n",
       "        </tr>\n",
       "        <tr>\n",
       "            <td>4</td>\n",
       "            <td>Customer#000000004</td>\n",
       "            <td>4u58h fqkyE</td>\n",
       "            <td>4</td>\n",
       "            <td>14-128-190-5944</td>\n",
       "            <td>2866.83</td>\n",
       "            <td>MACHINERY</td>\n",
       "            <td> sublate. fluffily even instructions are about th</td>\n",
       "        </tr>\n",
       "        <tr>\n",
       "            <td>5</td>\n",
       "            <td>Customer#000000005</td>\n",
       "            <td>hwBtxkoBF qSW4KrIk5U 2B1AU7H</td>\n",
       "            <td>3</td>\n",
       "            <td>13-750-942-6364</td>\n",
       "            <td>794.47</td>\n",
       "            <td>HOUSEHOLD</td>\n",
       "            <td>equests haggle furiously against the pending packa</td>\n",
       "        </tr>\n",
       "        <tr>\n",
       "            <td>6</td>\n",
       "            <td>Customer#000000006</td>\n",
       "            <td> g1s,pzDenUEBW3O,2 pxu0f9n2g64rJrt5E</td>\n",
       "            <td>20</td>\n",
       "            <td>30-114-968-4951</td>\n",
       "            <td>7638.57</td>\n",
       "            <td>AUTOMOBILE</td>\n",
       "            <td> quickly silent asymptotes are slyly regular excuses. instructions wake furiously? quickly bold courts p</td>\n",
       "        </tr>\n",
       "        <tr>\n",
       "            <td>7</td>\n",
       "            <td>Customer#000000007</td>\n",
       "            <td>8OkMVLQ1dK6Mbu6WG9 w4pLGQ n7MQ</td>\n",
       "            <td>18</td>\n",
       "            <td>28-190-982-9759</td>\n",
       "            <td>9561.95</td>\n",
       "            <td>AUTOMOBILE</td>\n",
       "            <td>ounts. ironic, regular accounts sleep. final requests haggle quickly after the</td>\n",
       "        </tr>\n",
       "        <tr>\n",
       "            <td>8</td>\n",
       "            <td>Customer#000000008</td>\n",
       "            <td>j,pZ,Qp,qtFEo0r0c 92qobZtlhSuOqbE4JGV</td>\n",
       "            <td>17</td>\n",
       "            <td>27-147-574-9335</td>\n",
       "            <td>6819.74</td>\n",
       "            <td>BUILDING</td>\n",
       "            <td>riously final excuses sublate quickly among the fluffily even foxes. quickly final packages haggle furiously furi</td>\n",
       "        </tr>\n",
       "        <tr>\n",
       "            <td>9</td>\n",
       "            <td>Customer#000000009</td>\n",
       "            <td>vgIql8H6zoyuLMFNdAMLyE7 H9</td>\n",
       "            <td>8</td>\n",
       "            <td>18-338-906-3675</td>\n",
       "            <td>8324.07</td>\n",
       "            <td>FURNITURE</td>\n",
       "            <td>ss pinto beans believe slyly quiet deposits-- doggedly bold packages boost. quickly ironic de</td>\n",
       "        </tr>\n",
       "        <tr>\n",
       "            <td>10</td>\n",
       "            <td>Customer#000000010</td>\n",
       "            <td>Vf mQ6Ug9Ucf5OKGYq fsaX AtfsO7,rwY</td>\n",
       "            <td>5</td>\n",
       "            <td>15-741-346-9870</td>\n",
       "            <td>2753.54</td>\n",
       "            <td>HOUSEHOLD</td>\n",
       "            <td>g quickly after the evenly bold</td>\n",
       "        </tr>\n",
       "    </tbody>\n",
       "</table>"
      ],
      "text/plain": [
       "+-----------+--------------------+---------------------------------------+-------------+-----------------+-----------+--------------+-------------------------------------------------------------------------------------------------------------------+\n",
       "| c_custkey |             c_name |                             c_address | c_nationkey |         c_phone | c_acctbal | c_mktsegment |                                                                                                         c_comment |\n",
       "+-----------+--------------------+---------------------------------------+-------------+-----------------+-----------+--------------+-------------------------------------------------------------------------------------------------------------------+\n",
       "|         1 | Customer#000000001 |                     j5JsirBM9PsCy0O1m |          15 | 25-989-741-2988 |    711.56 |     BUILDING |                                                    y final requests wake slyly quickly special accounts. blithely |\n",
       "|         2 | Customer#000000002 |        487LW1dovn6Q4dMVymKwwLE9OKf3QG |          13 | 23-768-687-3665 |    121.65 |   AUTOMOBILE |                                                   y carefully regular foxes. slyly regular requests about the bli |\n",
       "|         3 | Customer#000000003 |                          fkRGN8nY4pkE |           1 | 11-719-748-3364 |   7498.12 |   AUTOMOBILE |            fully. carefully silent instructions sleep alongside of the slyly regular asymptotes. quickly regular  |\n",
       "|         4 | Customer#000000004 |                           4u58h fqkyE |           4 | 14-128-190-5944 |   2866.83 |    MACHINERY |                                                                  sublate. fluffily even instructions are about th |\n",
       "|         5 | Customer#000000005 |          hwBtxkoBF qSW4KrIk5U 2B1AU7H |           3 | 13-750-942-6364 |    794.47 |    HOUSEHOLD |                                                                equests haggle furiously against the pending packa |\n",
       "|         6 | Customer#000000006 |   g1s,pzDenUEBW3O,2 pxu0f9n2g64rJrt5E |          20 | 30-114-968-4951 |   7638.57 |   AUTOMOBILE |           quickly silent asymptotes are slyly regular excuses. instructions wake furiously? quickly bold courts p |\n",
       "|         7 | Customer#000000007 |        8OkMVLQ1dK6Mbu6WG9 w4pLGQ n7MQ |          18 | 28-190-982-9759 |   9561.95 |   AUTOMOBILE |                                    ounts. ironic, regular accounts sleep. final requests haggle quickly after the |\n",
       "|         8 | Customer#000000008 | j,pZ,Qp,qtFEo0r0c 92qobZtlhSuOqbE4JGV |          17 | 27-147-574-9335 |   6819.74 |     BUILDING | riously final excuses sublate quickly among the fluffily even foxes. quickly final packages haggle furiously furi |\n",
       "|         9 | Customer#000000009 |            vgIql8H6zoyuLMFNdAMLyE7 H9 |           8 | 18-338-906-3675 |   8324.07 |    FURNITURE |                     ss pinto beans believe slyly quiet deposits-- doggedly bold packages boost. quickly ironic de |\n",
       "|        10 | Customer#000000010 |    Vf mQ6Ug9Ucf5OKGYq fsaX AtfsO7,rwY |           5 | 15-741-346-9870 |   2753.54 |    HOUSEHOLD |                                                                                   g quickly after the evenly bold |\n",
       "+-----------+--------------------+---------------------------------------+-------------+-----------------+-----------+--------------+-------------------------------------------------------------------------------------------------------------------+"
      ]
     },
     "execution_count": 14,
     "metadata": {},
     "output_type": "execute_result"
    }
   ],
   "source": [
    "%%sql \n",
    "select * from customer limit 10;"
   ]
  },
  {
   "cell_type": "code",
   "execution_count": 15,
   "id": "e2579d9b-6a4b-442c-ab89-0a3e0161ae6b",
   "metadata": {},
   "outputs": [
    {
     "data": {
      "text/html": [
       "<table>\n",
       "    <thead>\n",
       "        <tr>\n",
       "            <th>col_name</th>\n",
       "            <th>data_type</th>\n",
       "            <th>comment</th>\n",
       "        </tr>\n",
       "    </thead>\n",
       "    <tbody>\n",
       "        <tr>\n",
       "            <td>c_custkey</td>\n",
       "            <td>bigint</td>\n",
       "            <td>None</td>\n",
       "        </tr>\n",
       "        <tr>\n",
       "            <td>c_name</td>\n",
       "            <td>string</td>\n",
       "            <td>None</td>\n",
       "        </tr>\n",
       "        <tr>\n",
       "            <td>c_address</td>\n",
       "            <td>string</td>\n",
       "            <td>None</td>\n",
       "        </tr>\n",
       "        <tr>\n",
       "            <td>c_nationkey</td>\n",
       "            <td>bigint</td>\n",
       "            <td>None</td>\n",
       "        </tr>\n",
       "        <tr>\n",
       "            <td>c_phone</td>\n",
       "            <td>string</td>\n",
       "            <td>None</td>\n",
       "        </tr>\n",
       "        <tr>\n",
       "            <td>c_acctbal</td>\n",
       "            <td>double</td>\n",
       "            <td>None</td>\n",
       "        </tr>\n",
       "        <tr>\n",
       "            <td>c_mktsegment</td>\n",
       "            <td>string</td>\n",
       "            <td>None</td>\n",
       "        </tr>\n",
       "        <tr>\n",
       "            <td>c_comment</td>\n",
       "            <td>string</td>\n",
       "            <td>None</td>\n",
       "        </tr>\n",
       "    </tbody>\n",
       "</table>"
      ],
      "text/plain": [
       "+--------------+-----------+---------+\n",
       "|     col_name | data_type | comment |\n",
       "+--------------+-----------+---------+\n",
       "|    c_custkey |    bigint |    None |\n",
       "|       c_name |    string |    None |\n",
       "|    c_address |    string |    None |\n",
       "|  c_nationkey |    bigint |    None |\n",
       "|      c_phone |    string |    None |\n",
       "|    c_acctbal |    double |    None |\n",
       "| c_mktsegment |    string |    None |\n",
       "|    c_comment |    string |    None |\n",
       "+--------------+-----------+---------+"
      ]
     },
     "execution_count": 15,
     "metadata": {},
     "output_type": "execute_result"
    }
   ],
   "source": [
    "%%sql\n",
    "describe bronze.customer;"
   ]
  },
  {
   "cell_type": "code",
   "execution_count": 16,
   "id": "ff7e2584-ad67-401d-a196-89b7e4d3746d",
   "metadata": {},
   "outputs": [
    {
     "data": {
      "text/html": [
       "<table>\n",
       "    <thead>\n",
       "        <tr>\n",
       "            <th>createtab_stmt</th>\n",
       "        </tr>\n",
       "    </thead>\n",
       "    <tbody>\n",
       "        <tr>\n",
       "            <td>CREATE TABLE demo.bronze.customer (<br>  c_custkey BIGINT,<br>  c_name STRING,<br>  c_address STRING,<br>  c_nationkey BIGINT,<br>  c_phone STRING,<br>  c_acctbal DOUBLE,<br>  c_mktsegment STRING,<br>  c_comment STRING)<br>USING iceberg<br>LOCATION &#x27;s3://warehouse/bronze/customer&#x27;<br>TBLPROPERTIES (<br>  &#x27;created-at&#x27; = &#x27;2025-07-14T23:35:49.635183045Z&#x27;,<br>  &#x27;current-snapshot-id&#x27; = &#x27;2044138703849656797&#x27;,<br>  &#x27;format&#x27; = &#x27;iceberg/parquet&#x27;,<br>  &#x27;format-version&#x27; = &#x27;2&#x27;,<br>  &#x27;write.format.default&#x27; = &#x27;parquet&#x27;,<br>  &#x27;write.parquet.compression-codec&#x27; = &#x27;zstd&#x27;)<br></td>\n",
       "        </tr>\n",
       "    </tbody>\n",
       "</table>"
      ],
      "text/plain": [
       "+----------------------------------------------------+\n",
       "|                                     createtab_stmt |\n",
       "+----------------------------------------------------+\n",
       "|                CREATE TABLE demo.bronze.customer ( |\n",
       "|                                  c_custkey BIGINT, |\n",
       "|                                     c_name STRING, |\n",
       "|                                  c_address STRING, |\n",
       "|                                c_nationkey BIGINT, |\n",
       "|                                    c_phone STRING, |\n",
       "|                                  c_acctbal DOUBLE, |\n",
       "|                               c_mktsegment STRING, |\n",
       "|                                  c_comment STRING) |\n",
       "|                                      USING iceberg |\n",
       "|          LOCATION 's3://warehouse/bronze/customer' |\n",
       "|                                    TBLPROPERTIES ( |\n",
       "|   'created-at' = '2025-07-14T23:35:49.635183045Z', |\n",
       "|     'current-snapshot-id' = '2044138703849656797', |\n",
       "|                      'format' = 'iceberg/parquet', |\n",
       "|                            'format-version' = '2', |\n",
       "|                'write.format.default' = 'parquet', |\n",
       "|        'write.parquet.compression-codec' = 'zstd') |\n",
       "|                                                    |\n",
       "+----------------------------------------------------+"
      ]
     },
     "execution_count": 16,
     "metadata": {},
     "output_type": "execute_result"
    }
   ],
   "source": [
    "%%sql\n",
    "show create table bronze.customer;"
   ]
  },
  {
   "cell_type": "code",
   "execution_count": null,
   "id": "e3793f49-65f2-4041-8f93-732c5c22a9ea",
   "metadata": {},
   "outputs": [],
   "source": []
  }
 ],
 "metadata": {
  "kernelspec": {
   "display_name": "Python 3 (ipykernel)",
   "language": "python",
   "name": "python3"
  },
  "language_info": {
   "codemirror_mode": {
    "name": "ipython",
    "version": 3
   },
   "file_extension": ".py",
   "mimetype": "text/x-python",
   "name": "python",
   "nbconvert_exporter": "python",
   "pygments_lexer": "ipython3",
   "version": "3.10.18"
  }
 },
 "nbformat": 4,
 "nbformat_minor": 5
}
